{
 "cells": [
  {
   "cell_type": "markdown",
   "metadata": {},
   "source": [
    "# Import Library"
   ]
  },
  {
   "cell_type": "code",
   "execution_count": 1,
   "metadata": {
    "ExecuteTime": {
     "end_time": "2019-11-20T15:02:30.355266Z",
     "start_time": "2019-11-20T15:02:09.211781Z"
    }
   },
   "outputs": [
    {
     "data": {
      "text/html": [
       "        <script type=\"text/javascript\">\n",
       "        window.PlotlyConfig = {MathJaxConfig: 'local'};\n",
       "        if (window.MathJax) {MathJax.Hub.Config({SVG: {font: \"STIX-Web\"}});}\n",
       "        if (typeof require !== 'undefined') {\n",
       "        require.undef(\"plotly\");\n",
       "        requirejs.config({\n",
       "            paths: {\n",
       "                'plotly': ['https://cdn.plot.ly/plotly-latest.min']\n",
       "            }\n",
       "        });\n",
       "        require(['plotly'], function(Plotly) {\n",
       "            window._Plotly = Plotly;\n",
       "        });\n",
       "        }\n",
       "        </script>\n",
       "        "
      ]
     },
     "metadata": {},
     "output_type": "display_data"
    }
   ],
   "source": [
    "import pandas as pd\n",
    "import numpy as np\n",
    "import datetime\n",
    "import warnings\n",
    "warnings.filterwarnings(\"ignore\")\n",
    "\n",
    "from statsmodels.graphics.gofplots import qqplot\n",
    "from scipy.stats import kurtosis, skew\n",
    "from yellowbrick.target import FeatureCorrelation,ClassBalance\n",
    "import swifter\n",
    "from sklearn.cluster import KMeans\n",
    "from sklearn.metrics import silhouette_score\n",
    "from sklearn.preprocessing import StandardScaler,MinMaxScaler\n",
    "from scipy.special import boxcox1p\n",
    "import statsmodels.api as sm\n",
    "import matplotlib.pyplot as plt\n",
    "import matplotlib\n",
    "%matplotlib inline\n",
    "matplotlib.rcParams['axes.unicode_minus'] = False # 마이너스 기호도 표시\n",
    "from matplotlib import font_manager, rc\n",
    "\n",
    "## 한글 깨짐 방지 목적 \n",
    "font_name = font_manager.FontProperties(fname = 'c:/Windows/Fonts/malgun.ttf').get_name()\n",
    "rc('font',family = font_name)\n",
    "\n",
    "## For Mac\n",
    "# rc('font', family='/Library/Fonts/AppleGothic.ttf')\n",
    "\n",
    "import seaborn as sns\n",
    "import plotly\n",
    "import plotly.plotly as py\n",
    "import plotly.graph_objs as go\n",
    "import plotly.figure_factory as ff\n",
    "from plotly.offline import init_notebook_mode, iplot\n",
    "init_notebook_mode(connected=True)"
   ]
  },
  {
   "cell_type": "markdown",
   "metadata": {},
   "source": [
    "# Import data"
   ]
  },
  {
   "cell_type": "code",
   "execution_count": 2,
   "metadata": {
    "ExecuteTime": {
     "end_time": "2019-11-20T15:02:35.435145Z",
     "start_time": "2019-11-20T15:02:30.358200Z"
    }
   },
   "outputs": [],
   "source": [
    "train = pd.read_csv('merged_train.csv')\n",
    "test = pd.read_csv('test.csv')"
   ]
  },
  {
   "cell_type": "markdown",
   "metadata": {},
   "source": [
    "train data의 data type을 살펴 보았습니다. 'date'는 datetime형태의 데이터 타입이어야 하는데 'object'임이 확인되었습니다. 데이터 타입을 적절하게 변형시킵니다."
   ]
  },
  {
   "cell_type": "code",
   "execution_count": 3,
   "metadata": {
    "ExecuteTime": {
     "end_time": "2019-11-20T15:02:36.392348Z",
     "start_time": "2019-11-20T15:02:35.438120Z"
    }
   },
   "outputs": [
    {
     "name": "stdout",
     "output_type": "stream",
     "text": [
      "<class 'pandas.core.frame.DataFrame'>\n",
      "RangeIndex: 1224439 entries, 0 to 1224438\n",
      "Data columns (total 17 columns):\n",
      "date                  1224439 non-null object\n",
      "date_block_num        1224439 non-null int64\n",
      "shop_id               1224439 non-null int64\n",
      "item_id               1224439 non-null int64\n",
      "item_price            1224439 non-null float64\n",
      "item_cnt_day          1224439 non-null float64\n",
      "year                  1224439 non-null int64\n",
      "year_month            1224439 non-null object\n",
      "month                 1224439 non-null int64\n",
      "quarter               1224439 non-null int64\n",
      "weekday               1224439 non-null int64\n",
      "weekday_name          1224439 non-null object\n",
      "day                   1224439 non-null int64\n",
      "item_name             1224439 non-null object\n",
      "item_category_id      1224439 non-null int64\n",
      "item_category_name    1224439 non-null object\n",
      "shop_name             1224439 non-null object\n",
      "dtypes: float64(2), int64(9), object(6)\n",
      "memory usage: 158.8+ MB\n"
     ]
    }
   ],
   "source": [
    "train = train.iloc[:,1:]\n",
    "train.info()"
   ]
  },
  {
   "cell_type": "code",
   "execution_count": 4,
   "metadata": {
    "ExecuteTime": {
     "end_time": "2019-11-20T15:02:40.572113Z",
     "start_time": "2019-11-20T15:02:36.395682Z"
    }
   },
   "outputs": [
    {
     "name": "stdout",
     "output_type": "stream",
     "text": [
      "<class 'pandas.core.frame.DataFrame'>\n",
      "RangeIndex: 1224439 entries, 0 to 1224438\n",
      "Data columns (total 17 columns):\n",
      "date                  1224439 non-null datetime64[ns]\n",
      "date_block_num        1224439 non-null int64\n",
      "shop_id               1224439 non-null int64\n",
      "item_id               1224439 non-null int64\n",
      "item_price            1224439 non-null float64\n",
      "item_cnt_day          1224439 non-null float64\n",
      "year                  1224439 non-null int64\n",
      "year_month            1224439 non-null period[M]\n",
      "month                 1224439 non-null int64\n",
      "quarter               1224439 non-null int64\n",
      "weekday               1224439 non-null int64\n",
      "weekday_name          1224439 non-null object\n",
      "day                   1224439 non-null int64\n",
      "item_name             1224439 non-null object\n",
      "item_category_id      1224439 non-null int64\n",
      "item_category_name    1224439 non-null object\n",
      "shop_name             1224439 non-null object\n",
      "dtypes: datetime64[ns](1), float64(2), int64(9), object(4), period[M](1)\n",
      "memory usage: 158.8+ MB\n"
     ]
    }
   ],
   "source": [
    "def add_time_features(data,x):\n",
    "    data[x] = pd.to_datetime(data[x],format = '%Y-%m-%d')\n",
    "    data['year'] = data[x].dt.year\n",
    "    data['year_month'] = data[x].dt.to_period('M')\n",
    "    data['month'] = data[x].dt.month\n",
    "    data['quarter'] = data[x].dt.quarter\n",
    "    data['weekday'] = data[x].dt.weekday\n",
    "    data['weekday_name'] = data[x].dt.weekday_name\n",
    "    data['day'] = data[x].dt.day\n",
    "    return data\n",
    "\n",
    "train = add_time_features(train,'date')\n",
    "train.info()"
   ]
  },
  {
   "cell_type": "markdown",
   "metadata": {},
   "source": [
    "같은 날('Date') 같은 상품('Item_name')을 각 상점에서 팔 때 가격이 다름을 확인할 수 있습니다."
   ]
  },
  {
   "cell_type": "code",
   "execution_count": 5,
   "metadata": {
    "ExecuteTime": {
     "end_time": "2019-11-20T15:11:12.519842Z",
     "start_time": "2019-11-20T15:02:40.575348Z"
    }
   },
   "outputs": [],
   "source": [
    "## Method 1 ##\n",
    "# c1 = []\n",
    "# c2 = []\n",
    "# for i in np.unique(train['item_name']):\n",
    "#     bo = train[train['item_name'] == i]\n",
    "#     for j in np.unique(bo['date']):\n",
    "#         bo2 = bo[bo['date'] == j]\n",
    "#         if len(np.unique(bo2['item_price'])) == 1:\n",
    "#             c1.append([i,j])\n",
    "#         else:\n",
    "#             c2.append([i,j])\n",
    "\n",
    "## Method 2 ##\n",
    "plate = []\n",
    "for a,b in train.groupby(['item_name','date']):\n",
    "    if len(np.unique(b['item_price'])) == 1:\n",
    "        continue\n",
    "    else:\n",
    "        plate.append([a,np.unique(b['item_price'])])"
   ]
  },
  {
   "cell_type": "code",
   "execution_count": 6,
   "metadata": {
    "ExecuteTime": {
     "end_time": "2019-11-20T15:11:12.532952Z",
     "start_time": "2019-11-20T15:11:12.523139Z"
    }
   },
   "outputs": [
    {
     "data": {
      "text/plain": [
       "36139"
      ]
     },
     "execution_count": 6,
     "metadata": {},
     "output_type": "execute_result"
    }
   ],
   "source": [
    "len(plate)"
   ]
  },
  {
   "cell_type": "markdown",
   "metadata": {},
   "source": [
    "새로운 테이블('easy_ta')를 구성한 후 'date','item_name'기준으로 가격의 차이를 정량화한 'price_gap'과 'price_gap'을 Scaling한 'normalized_price_gap'을 생성합니다."
   ]
  },
  {
   "cell_type": "code",
   "execution_count": 7,
   "metadata": {
    "ExecuteTime": {
     "end_time": "2019-11-20T15:11:12.619060Z",
     "start_time": "2019-11-20T15:11:12.537330Z"
    },
    "scrolled": true
   },
   "outputs": [],
   "source": [
    "a1 = [plate[i][0][0] for i in range(len(plate))]\n",
    "a2 = [plate[i][0][1] for i in range(len(plate))]\n",
    "a3 = [plate[i][1] for i in range(len(plate))]\n",
    "\n",
    "easy_ta = pd.DataFrame({'item_name' : a1,\n",
    "                        'date' : a2,\n",
    "                        'price' : a3})"
   ]
  },
  {
   "cell_type": "code",
   "execution_count": 8,
   "metadata": {
    "ExecuteTime": {
     "end_time": "2019-11-20T15:11:13.056492Z",
     "start_time": "2019-11-20T15:11:12.622810Z"
    },
    "scrolled": true
   },
   "outputs": [],
   "source": [
    "easy_ta['price_gap'] = easy_ta['price'].apply(lambda x : x.max() - x.min())\n",
    "easy_ta['normalized_price_gap'] = (easy_ta['price_gap'] - easy_ta['price_gap'].mean()) / easy_ta['price_gap'].std()"
   ]
  },
  {
   "cell_type": "code",
   "execution_count": 9,
   "metadata": {
    "ExecuteTime": {
     "end_time": "2019-11-20T15:11:13.088570Z",
     "start_time": "2019-11-20T15:11:13.060480Z"
    }
   },
   "outputs": [
    {
     "data": {
      "text/html": [
       "<div>\n",
       "<style scoped>\n",
       "    .dataframe tbody tr th:only-of-type {\n",
       "        vertical-align: middle;\n",
       "    }\n",
       "\n",
       "    .dataframe tbody tr th {\n",
       "        vertical-align: top;\n",
       "    }\n",
       "\n",
       "    .dataframe thead th {\n",
       "        text-align: right;\n",
       "    }\n",
       "</style>\n",
       "<table border=\"1\" class=\"dataframe\">\n",
       "  <thead>\n",
       "    <tr style=\"text-align: right;\">\n",
       "      <th></th>\n",
       "      <th>item_name</th>\n",
       "      <th>date</th>\n",
       "      <th>price</th>\n",
       "      <th>price_gap</th>\n",
       "      <th>normalized_price_gap</th>\n",
       "    </tr>\n",
       "  </thead>\n",
       "  <tbody>\n",
       "    <tr>\n",
       "      <th>0</th>\n",
       "      <td>007: КООРДИНАТЫ «СКАЙФОЛЛ»</td>\n",
       "      <td>2013-02-12</td>\n",
       "      <td>[359.0, 379.0, 394.555555556, 399.0]</td>\n",
       "      <td>40.0</td>\n",
       "      <td>-0.368564</td>\n",
       "    </tr>\n",
       "    <tr>\n",
       "      <th>1</th>\n",
       "      <td>007: КООРДИНАТЫ «СКАЙФОЛЛ»</td>\n",
       "      <td>2013-02-13</td>\n",
       "      <td>[359.0, 372.33333333300004, 379.0, 387.5714285...</td>\n",
       "      <td>40.0</td>\n",
       "      <td>-0.368564</td>\n",
       "    </tr>\n",
       "    <tr>\n",
       "      <th>2</th>\n",
       "      <td>007: КООРДИНАТЫ «СКАЙФОЛЛ»</td>\n",
       "      <td>2013-02-14</td>\n",
       "      <td>[265.0, 379.0, 389.0, 391.0, 399.0]</td>\n",
       "      <td>134.0</td>\n",
       "      <td>-0.188875</td>\n",
       "    </tr>\n",
       "    <tr>\n",
       "      <th>3</th>\n",
       "      <td>007: КООРДИНАТЫ «СКАЙФОЛЛ»</td>\n",
       "      <td>2013-02-15</td>\n",
       "      <td>[359.0, 385.66666666699996, 391.0, 398.9285714...</td>\n",
       "      <td>40.0</td>\n",
       "      <td>-0.368564</td>\n",
       "    </tr>\n",
       "    <tr>\n",
       "      <th>4</th>\n",
       "      <td>007: КООРДИНАТЫ «СКАЙФОЛЛ»</td>\n",
       "      <td>2013-02-16</td>\n",
       "      <td>[265.0, 379.0, 385.66666666699996, 389.0, 392....</td>\n",
       "      <td>134.0</td>\n",
       "      <td>-0.188875</td>\n",
       "    </tr>\n",
       "  </tbody>\n",
       "</table>\n",
       "</div>"
      ],
      "text/plain": [
       "                    item_name       date  \\\n",
       "0  007: КООРДИНАТЫ «СКАЙФОЛЛ» 2013-02-12   \n",
       "1  007: КООРДИНАТЫ «СКАЙФОЛЛ» 2013-02-13   \n",
       "2  007: КООРДИНАТЫ «СКАЙФОЛЛ» 2013-02-14   \n",
       "3  007: КООРДИНАТЫ «СКАЙФОЛЛ» 2013-02-15   \n",
       "4  007: КООРДИНАТЫ «СКАЙФОЛЛ» 2013-02-16   \n",
       "\n",
       "                                               price  price_gap  \\\n",
       "0               [359.0, 379.0, 394.555555556, 399.0]       40.0   \n",
       "1  [359.0, 372.33333333300004, 379.0, 387.5714285...       40.0   \n",
       "2                [265.0, 379.0, 389.0, 391.0, 399.0]      134.0   \n",
       "3  [359.0, 385.66666666699996, 391.0, 398.9285714...       40.0   \n",
       "4  [265.0, 379.0, 385.66666666699996, 389.0, 392....      134.0   \n",
       "\n",
       "   normalized_price_gap  \n",
       "0             -0.368564  \n",
       "1             -0.368564  \n",
       "2             -0.188875  \n",
       "3             -0.368564  \n",
       "4             -0.188875  "
      ]
     },
     "execution_count": 9,
     "metadata": {},
     "output_type": "execute_result"
    }
   ],
   "source": [
    "easy_ta.head()"
   ]
  },
  {
   "cell_type": "markdown",
   "metadata": {},
   "source": [
    "상품의 변동성이 높은 상위 품목은 다음과 같습니다.\n",
    "\n",
    "- Прием денежных средств для 1С-Онлайн\n",
    "- Sony PlayStation 4 (500 Gb) Black (CUH-1008A/1...\n",
    "- Xbox One 500 ГБ + Assassins Creed Единство + A...\n",
    "- Комплект \"Microsoft Xbox One 1TB  (CoD:AW) + \"...\n",
    "- Комплект \"Microsoft Xbox One 500GB (Day One Ed...\n",
    "- Комплект \"Microsoft Xbox One 500GB\" + \"Ведьмак...\n",
    "- Sony PlayStation 4 (1Tb) Black (CUH-1208B)\n",
    "- Комплект \"Microsoft Xbox 360 E 500GB\"+Kinect+ ...\n",
    "- Комплект \"Microsoft Xbox One 1TB  Limited Edit...\n",
    "- Комплект \"Microsoft Xbox 360 E 500GB\" + \"Call ...\n",
    "- Sony PlayStation 4 (500 Gb) Black (CUH-1208A/B01)\n",
    "- Grand Theft Auto V [PS4, русские субтитры]\n",
    "- Titanfall [Xbox 360, русская версия]\n",
    "- Battlefield 4 [PS3, русская версия]\n",
    "- PS4: Гарнитура беспроводная черная для PS4 (с ...\n",
    "</bs>\n",
    "\n",
    "상품의 변동성이 낮은 하위 품목은 다음과 같습니다.\n",
    "\n",
    "- Метро 2033. Возвращение [Xbox One, русская вер...\n",
    "- RICHARDS KEITH  Crosseyed Heart\n",
    "- Мини-головоломка 9**/ Mini Wire 09** Арт. 473309\n",
    "- REA CHRIS The Very Best Of\n",
    "- RAMMSTEIN  Sehnsucht\n",
    "- Микроробот Нано Mouse Cat Toy\n",
    "- RAMMSTEIN  Live Aus Berlin\n",
    "- QUEEN  Innuendo  2LP\n",
    "- Мини-головоломка 11***/ Mini Wire 11*** Арт. 4...\n",
    "- Мини-головоломка 12**/ Mini Wire 12** Арт. 473312\n",
    "- Мини-головоломка 13**/ Mini Wire 13** Арт. 473313\n",
    "- Мини-головоломка 2**/ Mini Wire 02** Арт. 473328\n",
    "- Мини-головоломка 23**/ Mini Wire 23** Арт. 473323\n",
    "- Мини-головоломка 3**/ Mini Wire 03** Арт. 473303\n",
    "- PRESLEY ELVIS  The Greatest  3CD"
   ]
  },
  {
   "cell_type": "code",
   "execution_count": 10,
   "metadata": {
    "ExecuteTime": {
     "end_time": "2019-11-20T15:11:26.679316Z",
     "start_time": "2019-11-20T15:11:13.091562Z"
    }
   },
   "outputs": [],
   "source": [
    "top = [easy_ta[easy_ta['item_name'] == i] for i in np.unique(easy_ta['item_name'])] "
   ]
  },
  {
   "cell_type": "code",
   "execution_count": 11,
   "metadata": {
    "ExecuteTime": {
     "end_time": "2019-11-20T15:11:37.747059Z",
     "start_time": "2019-11-20T15:11:26.681311Z"
    },
    "scrolled": true
   },
   "outputs": [],
   "source": [
    "p = []\n",
    "for i in range(len(top)):\n",
    "    a1 = top[i].max()\n",
    "    a2 = top[i].min()\n",
    "    p.append(a1)\n",
    "    p.append(a2)\n",
    "min_max_gap = pd.DataFrame(p)"
   ]
  },
  {
   "cell_type": "code",
   "execution_count": 12,
   "metadata": {
    "ExecuteTime": {
     "end_time": "2019-11-20T15:11:37.799913Z",
     "start_time": "2019-11-20T15:11:37.754035Z"
    },
    "scrolled": true
   },
   "outputs": [
    {
     "name": "stdout",
     "output_type": "stream",
     "text": [
      "2010                 Прием денежных средств для 1С-Онлайн\n",
      "812     Sony PlayStation 4 (500 Gb) Black (CUH-1008A/1...\n",
      "939     Xbox One 500 ГБ + Assassins Creed Единство + A...\n",
      "1484    Комплект \"Microsoft Xbox One 1TB  (CoD:AW) + \"...\n",
      "1486    Комплект \"Microsoft Xbox One 500GB (Day One Ed...\n",
      "1487    Комплект \"Microsoft Xbox One 500GB\" + \"Ведьмак...\n",
      "811            Sony PlayStation 4 (1Tb) Black (CUH-1208B)\n",
      "1483    Комплект \"Microsoft Xbox 360 E 500GB\"+Kinect+ ...\n",
      "1485    Комплект \"Microsoft Xbox One 1TB  Limited Edit...\n",
      "1482    Комплект \"Microsoft Xbox 360 E 500GB\" + \"Call ...\n",
      "813     Sony PlayStation 4 (500 Gb) Black (CUH-1208A/B01)\n",
      "425            Grand Theft Auto V [PS4, русские субтитры]\n",
      "844                  Titanfall [Xbox 360, русская версия]\n",
      "143                   Battlefield 4 [PS3, русская версия]\n",
      "673     PS4: Гарнитура беспроводная черная для PS4 (с ...\n",
      "Name: item_name, dtype: object\n",
      "\n",
      "1659    Метро 2033. Возвращение [Xbox One, русская вер...\n",
      "729                       RICHARDS KEITH  Crosseyed Heart\n",
      "1684     Мини-головоломка 9**/ Mini Wire 09** Арт. 473309\n",
      "727                            REA CHRIS The Very Best Of\n",
      "726                                  RAMMSTEIN  Sehnsucht\n",
      "1672                        Микроробот Нано Mouse Cat Toy\n",
      "723                            RAMMSTEIN  Live Aus Berlin\n",
      "720                                  QUEEN  Innuendo  2LP\n",
      "1677    Мини-головоломка 11***/ Mini Wire 11*** Арт. 4...\n",
      "1678    Мини-головоломка 12**/ Mini Wire 12** Арт. 473312\n",
      "1679    Мини-головоломка 13**/ Mini Wire 13** Арт. 473313\n",
      "1681     Мини-головоломка 2**/ Mini Wire 02** Арт. 473328\n",
      "1682    Мини-головоломка 23**/ Mini Wire 23** Арт. 473323\n",
      "1683     Мини-головоломка 3**/ Mini Wire 03** Арт. 473303\n",
      "657                      PRESLEY ELVIS  The Greatest  3CD\n",
      "Name: item_name, dtype: object\n"
     ]
    }
   ],
   "source": [
    "max_v = min_max_gap.groupby(['item_name'])['price_gap'].max().reset_index() \n",
    "min_v = min_max_gap.groupby(['item_name'])['price_gap'].min().reset_index()\n",
    "w = max_v['price_gap'] - min_v['price_gap']\n",
    "max_v['w'] = w\n",
    "max_v = max_v.sort_values(by = 'w',ascending=False)\n",
    "print(max_v[:15]['item_name'])\n",
    "print()\n",
    "print(max_v[-15:]['item_name'])"
   ]
  },
  {
   "cell_type": "markdown",
   "metadata": {},
   "source": [
    "각 아이템별 가격 차이에 대한 분포를 살펴보면 다음과 같습니다."
   ]
  },
  {
   "cell_type": "code",
   "execution_count": 13,
   "metadata": {
    "ExecuteTime": {
     "end_time": "2019-11-20T15:57:34.973601Z",
     "start_time": "2019-11-20T15:11:37.802904Z"
    }
   },
   "outputs": [
    {
     "data": {
      "image/png": "[encoded data removed]",
      "text/plain": [
       "<Figure size 432x288 with 1 Axes>"
      ]
     },
     "metadata": {
      "needs_background": "light"
     },
     "output_type": "display_data"
    }
   ],
   "source": [
    "for i in np.unique(easy_ta['item_name']):\n",
    "    part1 = easy_ta[easy_ta['item_name'] == i]\n",
    "    sns.distplot(part1['normalized_price_gap'])\n",
    "    plt.title('check normal distribution ' + 'in ' + i)\n",
    "   # qqplot(part1['normalized_price_gap'],line = 's')"
   ]
  },
  {
   "cell_type": "markdown",
   "metadata": {},
   "source": [
    "# Question 2 : 'Item_cnt_day'와 'item_price'는 어떤 관계를 가지는가?"
   ]
  },
  {
   "cell_type": "markdown",
   "metadata": {},
   "source": [
    "train set을 상점명을 기준으로 총 42개의 subset으로 나눕니다. 이 때 'date'를 기준으로 sorting합니다."
   ]
  },
  {
   "cell_type": "code",
   "execution_count": 14,
   "metadata": {
    "ExecuteTime": {
     "end_time": "2019-11-20T15:57:35.980874Z",
     "start_time": "2019-11-20T15:57:34.976559Z"
    },
    "scrolled": true
   },
   "outputs": [
    {
     "data": {
      "text/plain": [
       "42"
      ]
     },
     "execution_count": 14,
     "metadata": {},
     "output_type": "execute_result"
    }
   ],
   "source": [
    "len(np.unique(train['shop_name']))"
   ]
  },
  {
   "cell_type": "code",
   "execution_count": 15,
   "metadata": {
    "ExecuteTime": {
     "end_time": "2019-11-20T15:57:42.044718Z",
     "start_time": "2019-11-20T15:57:35.983869Z"
    }
   },
   "outputs": [],
   "source": [
    "train_shop = [train[train['shop_name'] == i].sort_values(by = ['date'],ascending = True) for i in np.unique(train['shop_name'])]"
   ]
  },
  {
   "cell_type": "markdown",
   "metadata": {},
   "source": [
    "각 상점의 'item_price'와 'item_cnt_day'간의 상관관계를 살펴보면 'item_price'가 낮을 수록 'item_cnt_day'가 높아지는 경향을 발견하였습니다."
   ]
  },
  {
   "cell_type": "code",
   "execution_count": 16,
   "metadata": {
    "ExecuteTime": {
     "end_time": "2019-11-20T15:57:42.054631Z",
     "start_time": "2019-11-20T15:57:42.046683Z"
    }
   },
   "outputs": [],
   "source": [
    "def scatter_plot(data,cri1,cri2):\n",
    "    sa = data[cri1]\n",
    "    sa2 = data[cri2]\n",
    "\n",
    "    trace = go.Scatter(\n",
    "        x = sa,\n",
    "        y = sa2,\n",
    "        mode = 'markers')\n",
    "\n",
    "    layout = go.Layout(title = 'Relationship between ' +  cri1 + ' and ' + cri2,\n",
    "                  yaxis = dict(\n",
    "                      title = cri2,\n",
    "                      zeroline = False),\n",
    "                  xaxis = dict(\n",
    "                      title = cri1,\n",
    "                      zeroline = False))\n",
    "\n",
    "    data = [trace]\n",
    "    fig = dict(data = data, layout = layout)\n",
    "    iplot(fig)"
   ]
  },
  {
   "cell_type": "code",
   "execution_count": 17,
   "metadata": {
    "ExecuteTime": {
     "end_time": "2019-11-20T15:57:42.065602Z",
     "start_time": "2019-11-20T15:57:42.058620Z"
    }
   },
   "outputs": [],
   "source": [
    "# for i in range(0,5,1):\n",
    "#     scatter_plot(train_shop[i],'item_price','item_cnt_day')"
   ]
  },
  {
   "cell_type": "markdown",
   "metadata": {},
   "source": [
    "# Question 3 : 각 상점의 'item_cnt_day'와 'item_price'에 대한 Seasonality와 Trend가 존재하는가?"
   ]
  },
  {
   "cell_type": "markdown",
   "metadata": {},
   "source": [
    "우리가 머신러닝 모델을 만들려는 목적을 다시 한번 상기하면 다음과 같습니다.\n",
    "- train set(2013-01~2015-10)을 통해 Test set(2015-11)의 각 상점에 따른 상품들의 판매량을 예측하는 것이 문제입니다.\n",
    "- 해당 데이터는 시계열 데이터입니다.\n",
    "- Train set과 Test set의 'item_cnt_day'의 합을 한달 단위로 접근한다면(Downsampling) 우리는 다음과 같은 문제에 봉착합니다.\n",
    "    - 1) Train data set에서 학습할 수 있는 양(관측치 : 34)이 작아집니다.\n",
    "    - 2) Downsampling 기법상 정보의 손실이 발생합니다.\n",
    "- Train set과 Test set의 'item_cnt_day'를 한 시간 단위로 접근한다면(Upsampling) 극단적으로 관측치의 양을 늘릴 수 있지만 정보에 대한 신뢰성에 의문이 제기됩니다."
   ]
  },
  {
   "cell_type": "code",
   "execution_count": 18,
   "metadata": {
    "ExecuteTime": {
     "end_time": "2019-11-20T16:14:56.233915Z",
     "start_time": "2019-11-20T15:57:42.070590Z"
    },
    "scrolled": true
   },
   "outputs": [],
   "source": [
    "p1 = []\n",
    "p2 = []\n",
    "\n",
    "for i in np.unique(train['shop_name']):\n",
    "    df1 = train[train['shop_name'] == i]\n",
    "    for j in np.unique(df1['item_id']):\n",
    "        df2 = df1[df1['item_id'] == j]\n",
    "        df3 = df2.groupby(['year_month'])['item_cnt_day'].sum().reset_index()\n",
    "        df3['shop_name'] = i\n",
    "        df3['item_id'] = j\n",
    "        df4 = df2.groupby(['year_month','weekday'])['item_cnt_day'].sum().reset_index()\n",
    "        df4['shop_name'] = i\n",
    "        df4['item_id'] = j\n",
    "        p1.append(df3)\n",
    "        p2.append(df4)\n",
    "\n",
    "month_sum = pd.concat(p1[0:])\n",
    "week_sum = pd.concat(p2[0:])"
   ]
  },
  {
   "cell_type": "code",
   "execution_count": 19,
   "metadata": {
    "ExecuteTime": {
     "end_time": "2019-11-20T16:14:56.256824Z",
     "start_time": "2019-11-20T16:14:56.235885Z"
    }
   },
   "outputs": [
    {
     "data": {
      "text/html": [
       "<div>\n",
       "<style scoped>\n",
       "    .dataframe tbody tr th:only-of-type {\n",
       "        vertical-align: middle;\n",
       "    }\n",
       "\n",
       "    .dataframe tbody tr th {\n",
       "        vertical-align: top;\n",
       "    }\n",
       "\n",
       "    .dataframe thead th {\n",
       "        text-align: right;\n",
       "    }\n",
       "</style>\n",
       "<table border=\"1\" class=\"dataframe\">\n",
       "  <thead>\n",
       "    <tr style=\"text-align: right;\">\n",
       "      <th></th>\n",
       "      <th>year_month</th>\n",
       "      <th>item_cnt_day</th>\n",
       "      <th>shop_name</th>\n",
       "      <th>item_id</th>\n",
       "    </tr>\n",
       "  </thead>\n",
       "  <tbody>\n",
       "    <tr>\n",
       "      <th>0</th>\n",
       "      <td>2013-03</td>\n",
       "      <td>1.0</td>\n",
       "      <td>Адыгея ТЦ \"Мега\"</td>\n",
       "      <td>30</td>\n",
       "    </tr>\n",
       "    <tr>\n",
       "      <th>1</th>\n",
       "      <td>2013-06</td>\n",
       "      <td>1.0</td>\n",
       "      <td>Адыгея ТЦ \"Мега\"</td>\n",
       "      <td>30</td>\n",
       "    </tr>\n",
       "    <tr>\n",
       "      <th>2</th>\n",
       "      <td>2014-04</td>\n",
       "      <td>1.0</td>\n",
       "      <td>Адыгея ТЦ \"Мега\"</td>\n",
       "      <td>30</td>\n",
       "    </tr>\n",
       "    <tr>\n",
       "      <th>3</th>\n",
       "      <td>2014-05</td>\n",
       "      <td>1.0</td>\n",
       "      <td>Адыгея ТЦ \"Мега\"</td>\n",
       "      <td>30</td>\n",
       "    </tr>\n",
       "    <tr>\n",
       "      <th>0</th>\n",
       "      <td>2013-02</td>\n",
       "      <td>4.0</td>\n",
       "      <td>Адыгея ТЦ \"Мега\"</td>\n",
       "      <td>31</td>\n",
       "    </tr>\n",
       "  </tbody>\n",
       "</table>\n",
       "</div>"
      ],
      "text/plain": [
       "  year_month  item_cnt_day         shop_name  item_id\n",
       "0    2013-03           1.0  Адыгея ТЦ \"Мега\"       30\n",
       "1    2013-06           1.0  Адыгея ТЦ \"Мега\"       30\n",
       "2    2014-04           1.0  Адыгея ТЦ \"Мега\"       30\n",
       "3    2014-05           1.0  Адыгея ТЦ \"Мега\"       30\n",
       "0    2013-02           4.0  Адыгея ТЦ \"Мега\"       31"
      ]
     },
     "execution_count": 19,
     "metadata": {},
     "output_type": "execute_result"
    }
   ],
   "source": [
    "month_sum.head()"
   ]
  },
  {
   "cell_type": "code",
   "execution_count": 20,
   "metadata": {
    "ExecuteTime": {
     "end_time": "2019-11-20T16:14:56.690636Z",
     "start_time": "2019-11-20T16:14:56.259785Z"
    }
   },
   "outputs": [
    {
     "data": {
      "text/plain": [
       "42"
      ]
     },
     "execution_count": 20,
     "metadata": {},
     "output_type": "execute_result"
    }
   ],
   "source": [
    "len(np.unique(month_sum['shop_name']))"
   ]
  },
  {
   "cell_type": "markdown",
   "metadata": {},
   "source": [
    "월을 기준으로 27.8%가 단일한 값을 가집니다. 즉 상점과 아이템을 기준으로 어떤 시계열 모델을 고안해도 'item_cnt_day'의 예측값이 같게 나오는 특성을 가집니다. Segmentation을 작게 생성할 때, seasonality와 trend가 존재하지 않음을 알 수 있습니다."
   ]
  },
  {
   "cell_type": "code",
   "execution_count": 21,
   "metadata": {
    "ExecuteTime": {
     "end_time": "2019-11-20T16:17:19.529619Z",
     "start_time": "2019-11-20T16:14:56.693625Z"
    }
   },
   "outputs": [],
   "source": [
    "plate1 = []\n",
    "plate2 = []\n",
    "for i in np.unique(month_sum['shop_name']):\n",
    "    c1 = month_sum[month_sum['shop_name'] == i]\n",
    "    for j in np.unique(c1['item_id']):\n",
    "        c2 = c1[c1['item_id'] == j]\n",
    "        if len(np.unique(c2['item_cnt_day'])) == 1:\n",
    "            plate1.append(c2)\n",
    "        else:\n",
    "            plate2.append(c2)\n",
    "\n",
    "month_only_one = pd.concat(plate1[0:])\n",
    "month_better_one = pd.concat(plate2[0:])"
   ]
  },
  {
   "cell_type": "code",
   "execution_count": 22,
   "metadata": {
    "ExecuteTime": {
     "end_time": "2019-11-20T16:17:19.987395Z",
     "start_time": "2019-11-20T16:17:19.531614Z"
    }
   },
   "outputs": [
    {
     "name": "stdout",
     "output_type": "stream",
     "text": [
      "198072\n"
     ]
    }
   ],
   "source": [
    "cri0 = len(np.unique(month_sum['shop_name'])) * len(np.unique(month_sum['item_id']))\n",
    "print(cri0)"
   ]
  },
  {
   "cell_type": "code",
   "execution_count": 23,
   "metadata": {
    "ExecuteTime": {
     "end_time": "2019-11-20T16:17:20.054215Z",
     "start_time": "2019-11-20T16:17:19.995373Z"
    },
    "scrolled": true
   },
   "outputs": [
    {
     "data": {
      "text/plain": [
       "0.27820691465729636"
      ]
     },
     "execution_count": 23,
     "metadata": {},
     "output_type": "execute_result"
    }
   ],
   "source": [
    "pd.DataFrame(month_only_one.groupby(['shop_name','item_id'])['item_cnt_day'].size()).shape[0] / cri0"
   ]
  },
  {
   "cell_type": "markdown",
   "metadata": {},
   "source": [
    "주간을 기준으로 37.2%가 단일한 값을 가집니다.Segmentation을 최대한 작게 생성할 때, 계절성이 존재하지 않음을 알 수 있습니다."
   ]
  },
  {
   "cell_type": "code",
   "execution_count": 24,
   "metadata": {
    "ExecuteTime": {
     "end_time": "2019-11-20T16:20:17.386095Z",
     "start_time": "2019-11-20T16:17:20.057207Z"
    }
   },
   "outputs": [],
   "source": [
    "plate3 = []\n",
    "plate4 = []\n",
    "for i in np.unique(week_sum['shop_name']):\n",
    "    c1 = week_sum[week_sum['shop_name'] == i]\n",
    "    for j in np.unique(c1['item_id']):\n",
    "        c2 = c1[c1['item_id'] == j]\n",
    "        if len(np.unique(c2['item_cnt_day'])) == 1:\n",
    "            plate3.append(c2)\n",
    "        else:\n",
    "            plate4.append(c2)\n",
    "            \n",
    "week_only_one = pd.concat(plate3[0:])\n",
    "week_better_one = pd.concat(plate4[0:])"
   ]
  },
  {
   "cell_type": "code",
   "execution_count": 25,
   "metadata": {
    "ExecuteTime": {
     "end_time": "2019-11-20T16:20:18.128080Z",
     "start_time": "2019-11-20T16:20:17.388057Z"
    }
   },
   "outputs": [
    {
     "name": "stdout",
     "output_type": "stream",
     "text": [
      "198072\n"
     ]
    }
   ],
   "source": [
    "cri1 = len(np.unique(week_sum['shop_name'])) * len(np.unique(week_sum['item_id']))\n",
    "print(cri1)"
   ]
  },
  {
   "cell_type": "code",
   "execution_count": 26,
   "metadata": {
    "ExecuteTime": {
     "end_time": "2019-11-20T16:20:18.242771Z",
     "start_time": "2019-11-20T16:20:18.131070Z"
    }
   },
   "outputs": [
    {
     "data": {
      "text/plain": [
       "0.3717739003998546"
      ]
     },
     "execution_count": 26,
     "metadata": {},
     "output_type": "execute_result"
    }
   ],
   "source": [
    "pd.DataFrame(week_only_one.groupby(['shop_name','item_id'])['item_cnt_day'].size()).shape[0] / cri1"
   ]
  },
  {
   "cell_type": "code",
   "execution_count": 27,
   "metadata": {
    "ExecuteTime": {
     "end_time": "2019-11-20T16:20:18.261721Z",
     "start_time": "2019-11-20T16:20:18.245764Z"
    }
   },
   "outputs": [
    {
     "data": {
      "text/html": [
       "<div>\n",
       "<style scoped>\n",
       "    .dataframe tbody tr th:only-of-type {\n",
       "        vertical-align: middle;\n",
       "    }\n",
       "\n",
       "    .dataframe tbody tr th {\n",
       "        vertical-align: top;\n",
       "    }\n",
       "\n",
       "    .dataframe thead th {\n",
       "        text-align: right;\n",
       "    }\n",
       "</style>\n",
       "<table border=\"1\" class=\"dataframe\">\n",
       "  <thead>\n",
       "    <tr style=\"text-align: right;\">\n",
       "      <th></th>\n",
       "      <th>year_month</th>\n",
       "      <th>item_cnt_day</th>\n",
       "      <th>shop_name</th>\n",
       "      <th>item_id</th>\n",
       "    </tr>\n",
       "  </thead>\n",
       "  <tbody>\n",
       "    <tr>\n",
       "      <th>0</th>\n",
       "      <td>2013-03</td>\n",
       "      <td>1.0</td>\n",
       "      <td>Адыгея ТЦ \"Мега\"</td>\n",
       "      <td>30</td>\n",
       "    </tr>\n",
       "    <tr>\n",
       "      <th>1</th>\n",
       "      <td>2013-06</td>\n",
       "      <td>1.0</td>\n",
       "      <td>Адыгея ТЦ \"Мега\"</td>\n",
       "      <td>30</td>\n",
       "    </tr>\n",
       "    <tr>\n",
       "      <th>2</th>\n",
       "      <td>2014-04</td>\n",
       "      <td>1.0</td>\n",
       "      <td>Адыгея ТЦ \"Мега\"</td>\n",
       "      <td>30</td>\n",
       "    </tr>\n",
       "    <tr>\n",
       "      <th>3</th>\n",
       "      <td>2014-05</td>\n",
       "      <td>1.0</td>\n",
       "      <td>Адыгея ТЦ \"Мега\"</td>\n",
       "      <td>30</td>\n",
       "    </tr>\n",
       "    <tr>\n",
       "      <th>0</th>\n",
       "      <td>2013-02</td>\n",
       "      <td>4.0</td>\n",
       "      <td>Адыгея ТЦ \"Мега\"</td>\n",
       "      <td>31</td>\n",
       "    </tr>\n",
       "  </tbody>\n",
       "</table>\n",
       "</div>"
      ],
      "text/plain": [
       "  year_month  item_cnt_day         shop_name  item_id\n",
       "0    2013-03           1.0  Адыгея ТЦ \"Мега\"       30\n",
       "1    2013-06           1.0  Адыгея ТЦ \"Мега\"       30\n",
       "2    2014-04           1.0  Адыгея ТЦ \"Мега\"       30\n",
       "3    2014-05           1.0  Адыгея ТЦ \"Мега\"       30\n",
       "0    2013-02           4.0  Адыгея ТЦ \"Мега\"       31"
      ]
     },
     "execution_count": 27,
     "metadata": {},
     "output_type": "execute_result"
    }
   ],
   "source": [
    "month_sum.head()"
   ]
  },
  {
   "cell_type": "code",
   "execution_count": 28,
   "metadata": {
    "ExecuteTime": {
     "end_time": "2019-11-20T16:20:18.639710Z",
     "start_time": "2019-11-20T16:20:18.265710Z"
    },
    "scrolled": true
   },
   "outputs": [
    {
     "data": {
      "text/html": [
       "<div>\n",
       "<style scoped>\n",
       "    .dataframe tbody tr th:only-of-type {\n",
       "        vertical-align: middle;\n",
       "    }\n",
       "\n",
       "    .dataframe tbody tr th {\n",
       "        vertical-align: top;\n",
       "    }\n",
       "\n",
       "    .dataframe thead th {\n",
       "        text-align: right;\n",
       "    }\n",
       "</style>\n",
       "<table border=\"1\" class=\"dataframe\">\n",
       "  <thead>\n",
       "    <tr style=\"text-align: right;\">\n",
       "      <th></th>\n",
       "      <th>shop_name</th>\n",
       "      <th>size</th>\n",
       "      <th>sum</th>\n",
       "      <th>median</th>\n",
       "      <th>mean</th>\n",
       "      <th>std</th>\n",
       "      <th>q25</th>\n",
       "      <th>q75</th>\n",
       "    </tr>\n",
       "  </thead>\n",
       "  <tbody>\n",
       "    <tr>\n",
       "      <th>0</th>\n",
       "      <td>Адыгея ТЦ \"Мега\"</td>\n",
       "      <td>8172</td>\n",
       "      <td>19033.0</td>\n",
       "      <td>1.0</td>\n",
       "      <td>2.329050</td>\n",
       "      <td>4.749768</td>\n",
       "      <td>1.0</td>\n",
       "      <td>2.0</td>\n",
       "    </tr>\n",
       "    <tr>\n",
       "      <th>1</th>\n",
       "      <td>Балашиха ТРК \"Октябрь-Киномир\"</td>\n",
       "      <td>8869</td>\n",
       "      <td>16838.0</td>\n",
       "      <td>1.0</td>\n",
       "      <td>1.898523</td>\n",
       "      <td>3.714596</td>\n",
       "      <td>1.0</td>\n",
       "      <td>2.0</td>\n",
       "    </tr>\n",
       "    <tr>\n",
       "      <th>2</th>\n",
       "      <td>Волжский ТЦ \"Волга Молл\"</td>\n",
       "      <td>11305</td>\n",
       "      <td>24268.0</td>\n",
       "      <td>1.0</td>\n",
       "      <td>2.146661</td>\n",
       "      <td>5.682294</td>\n",
       "      <td>1.0</td>\n",
       "      <td>2.0</td>\n",
       "    </tr>\n",
       "    <tr>\n",
       "      <th>3</th>\n",
       "      <td>Вологда ТРЦ \"Мармелад\"</td>\n",
       "      <td>12065</td>\n",
       "      <td>24640.0</td>\n",
       "      <td>1.0</td>\n",
       "      <td>2.042271</td>\n",
       "      <td>4.617143</td>\n",
       "      <td>1.0</td>\n",
       "      <td>2.0</td>\n",
       "    </tr>\n",
       "    <tr>\n",
       "      <th>4</th>\n",
       "      <td>Воронеж (Плехановская, 13)</td>\n",
       "      <td>19914</td>\n",
       "      <td>51390.0</td>\n",
       "      <td>1.0</td>\n",
       "      <td>2.580597</td>\n",
       "      <td>7.772118</td>\n",
       "      <td>1.0</td>\n",
       "      <td>2.0</td>\n",
       "    </tr>\n",
       "    <tr>\n",
       "      <th>5</th>\n",
       "      <td>Воронеж ТРЦ \"Максимир\"</td>\n",
       "      <td>15405</td>\n",
       "      <td>37624.0</td>\n",
       "      <td>1.0</td>\n",
       "      <td>2.442324</td>\n",
       "      <td>6.507651</td>\n",
       "      <td>1.0</td>\n",
       "      <td>2.0</td>\n",
       "    </tr>\n",
       "    <tr>\n",
       "      <th>6</th>\n",
       "      <td>Жуковский ул. Чкалова 39м?</td>\n",
       "      <td>7038</td>\n",
       "      <td>13429.0</td>\n",
       "      <td>1.0</td>\n",
       "      <td>1.908070</td>\n",
       "      <td>4.148609</td>\n",
       "      <td>1.0</td>\n",
       "      <td>2.0</td>\n",
       "    </tr>\n",
       "    <tr>\n",
       "      <th>7</th>\n",
       "      <td>Интернет-магазин ЧС</td>\n",
       "      <td>10051</td>\n",
       "      <td>46544.0</td>\n",
       "      <td>1.0</td>\n",
       "      <td>4.630783</td>\n",
       "      <td>34.801188</td>\n",
       "      <td>1.0</td>\n",
       "      <td>2.0</td>\n",
       "    </tr>\n",
       "    <tr>\n",
       "      <th>8</th>\n",
       "      <td>Казань ТЦ \"ПаркХаус\" II</td>\n",
       "      <td>10776</td>\n",
       "      <td>26251.0</td>\n",
       "      <td>1.0</td>\n",
       "      <td>2.436062</td>\n",
       "      <td>7.241925</td>\n",
       "      <td>1.0</td>\n",
       "      <td>2.0</td>\n",
       "    </tr>\n",
       "    <tr>\n",
       "      <th>9</th>\n",
       "      <td>Калуга ТРЦ \"XXI век\"</td>\n",
       "      <td>14640</td>\n",
       "      <td>38539.0</td>\n",
       "      <td>1.0</td>\n",
       "      <td>2.632445</td>\n",
       "      <td>7.718249</td>\n",
       "      <td>1.0</td>\n",
       "      <td>2.0</td>\n",
       "    </tr>\n",
       "    <tr>\n",
       "      <th>10</th>\n",
       "      <td>Коломна ТЦ \"Рио\"</td>\n",
       "      <td>13747</td>\n",
       "      <td>32649.0</td>\n",
       "      <td>1.0</td>\n",
       "      <td>2.374991</td>\n",
       "      <td>6.595392</td>\n",
       "      <td>1.0</td>\n",
       "      <td>2.0</td>\n",
       "    </tr>\n",
       "    <tr>\n",
       "      <th>11</th>\n",
       "      <td>Красноярск ТЦ \"Июнь\"</td>\n",
       "      <td>13580</td>\n",
       "      <td>34785.0</td>\n",
       "      <td>1.0</td>\n",
       "      <td>2.561487</td>\n",
       "      <td>8.004296</td>\n",
       "      <td>1.0</td>\n",
       "      <td>2.0</td>\n",
       "    </tr>\n",
       "    <tr>\n",
       "      <th>12</th>\n",
       "      <td>Курск ТЦ \"Пушкинский\"</td>\n",
       "      <td>16488</td>\n",
       "      <td>38646.0</td>\n",
       "      <td>1.0</td>\n",
       "      <td>2.343886</td>\n",
       "      <td>5.197501</td>\n",
       "      <td>1.0</td>\n",
       "      <td>2.0</td>\n",
       "    </tr>\n",
       "    <tr>\n",
       "      <th>13</th>\n",
       "      <td>Москва МТРЦ \"Афи Молл\"</td>\n",
       "      <td>17135</td>\n",
       "      <td>38447.0</td>\n",
       "      <td>1.0</td>\n",
       "      <td>2.243770</td>\n",
       "      <td>7.286964</td>\n",
       "      <td>1.0</td>\n",
       "      <td>2.0</td>\n",
       "    </tr>\n",
       "    <tr>\n",
       "      <th>14</th>\n",
       "      <td>Москва Магазин С21</td>\n",
       "      <td>11786</td>\n",
       "      <td>34446.0</td>\n",
       "      <td>1.0</td>\n",
       "      <td>2.922620</td>\n",
       "      <td>9.477166</td>\n",
       "      <td>1.0</td>\n",
       "      <td>2.0</td>\n",
       "    </tr>\n",
       "    <tr>\n",
       "      <th>15</th>\n",
       "      <td>Москва ТК \"Буденовский\" (пав.К7)</td>\n",
       "      <td>13946</td>\n",
       "      <td>35798.0</td>\n",
       "      <td>1.0</td>\n",
       "      <td>2.566901</td>\n",
       "      <td>7.398962</td>\n",
       "      <td>1.0</td>\n",
       "      <td>2.0</td>\n",
       "    </tr>\n",
       "    <tr>\n",
       "      <th>16</th>\n",
       "      <td>Москва ТРК \"Атриум\"</td>\n",
       "      <td>34109</td>\n",
       "      <td>123665.0</td>\n",
       "      <td>2.0</td>\n",
       "      <td>3.625583</td>\n",
       "      <td>18.000289</td>\n",
       "      <td>1.0</td>\n",
       "      <td>3.0</td>\n",
       "    </tr>\n",
       "    <tr>\n",
       "      <th>17</th>\n",
       "      <td>Москва ТЦ \"Ареал\" (Беляево)</td>\n",
       "      <td>14361</td>\n",
       "      <td>35771.0</td>\n",
       "      <td>1.0</td>\n",
       "      <td>2.490843</td>\n",
       "      <td>8.484252</td>\n",
       "      <td>1.0</td>\n",
       "      <td>2.0</td>\n",
       "    </tr>\n",
       "    <tr>\n",
       "      <th>18</th>\n",
       "      <td>Москва ТЦ \"МЕГА Теплый Стан\" II</td>\n",
       "      <td>28091</td>\n",
       "      <td>100002.0</td>\n",
       "      <td>2.0</td>\n",
       "      <td>3.559930</td>\n",
       "      <td>16.560565</td>\n",
       "      <td>1.0</td>\n",
       "      <td>3.0</td>\n",
       "    </tr>\n",
       "    <tr>\n",
       "      <th>19</th>\n",
       "      <td>Москва ТЦ \"Семеновский\"</td>\n",
       "      <td>38151</td>\n",
       "      <td>160123.0</td>\n",
       "      <td>2.0</td>\n",
       "      <td>4.197085</td>\n",
       "      <td>21.649547</td>\n",
       "      <td>1.0</td>\n",
       "      <td>4.0</td>\n",
       "    </tr>\n",
       "    <tr>\n",
       "      <th>20</th>\n",
       "      <td>Н.Новгород ТРЦ \"РИО\"</td>\n",
       "      <td>3227</td>\n",
       "      <td>5298.0</td>\n",
       "      <td>1.0</td>\n",
       "      <td>1.641773</td>\n",
       "      <td>2.575210</td>\n",
       "      <td>1.0</td>\n",
       "      <td>2.0</td>\n",
       "    </tr>\n",
       "    <tr>\n",
       "      <th>21</th>\n",
       "      <td>Н.Новгород ТРЦ \"Фантастика\"</td>\n",
       "      <td>16245</td>\n",
       "      <td>38858.0</td>\n",
       "      <td>1.0</td>\n",
       "      <td>2.391998</td>\n",
       "      <td>6.673617</td>\n",
       "      <td>1.0</td>\n",
       "      <td>2.0</td>\n",
       "    </tr>\n",
       "    <tr>\n",
       "      <th>22</th>\n",
       "      <td>Новосибирск ТРЦ \"Галерея Новосибирск\"</td>\n",
       "      <td>252</td>\n",
       "      <td>324.0</td>\n",
       "      <td>1.0</td>\n",
       "      <td>1.285714</td>\n",
       "      <td>1.149101</td>\n",
       "      <td>1.0</td>\n",
       "      <td>1.0</td>\n",
       "    </tr>\n",
       "    <tr>\n",
       "      <th>23</th>\n",
       "      <td>Новосибирск ТЦ \"Мега\"</td>\n",
       "      <td>12015</td>\n",
       "      <td>25539.0</td>\n",
       "      <td>1.0</td>\n",
       "      <td>2.125593</td>\n",
       "      <td>6.037116</td>\n",
       "      <td>1.0</td>\n",
       "      <td>2.0</td>\n",
       "    </tr>\n",
       "    <tr>\n",
       "      <th>24</th>\n",
       "      <td>Омск ТЦ \"Мега\"</td>\n",
       "      <td>13308</td>\n",
       "      <td>32047.0</td>\n",
       "      <td>1.0</td>\n",
       "      <td>2.408100</td>\n",
       "      <td>5.495064</td>\n",
       "      <td>1.0</td>\n",
       "      <td>2.0</td>\n",
       "    </tr>\n",
       "    <tr>\n",
       "      <th>25</th>\n",
       "      <td>РостовНаДону ТРК \"Мегацентр Горизонт\"</td>\n",
       "      <td>6643</td>\n",
       "      <td>12613.0</td>\n",
       "      <td>1.0</td>\n",
       "      <td>1.898690</td>\n",
       "      <td>5.848339</td>\n",
       "      <td>1.0</td>\n",
       "      <td>1.0</td>\n",
       "    </tr>\n",
       "    <tr>\n",
       "      <th>26</th>\n",
       "      <td>РостовНаДону ТЦ \"Мега\"</td>\n",
       "      <td>11065</td>\n",
       "      <td>25345.0</td>\n",
       "      <td>1.0</td>\n",
       "      <td>2.290556</td>\n",
       "      <td>6.089155</td>\n",
       "      <td>1.0</td>\n",
       "      <td>2.0</td>\n",
       "    </tr>\n",
       "    <tr>\n",
       "      <th>27</th>\n",
       "      <td>СПб ТК \"Невский Центр\"</td>\n",
       "      <td>25650</td>\n",
       "      <td>82952.0</td>\n",
       "      <td>1.0</td>\n",
       "      <td>3.233996</td>\n",
       "      <td>15.044060</td>\n",
       "      <td>1.0</td>\n",
       "      <td>2.0</td>\n",
       "    </tr>\n",
       "    <tr>\n",
       "      <th>28</th>\n",
       "      <td>Самара ТЦ \"Мелодия\"</td>\n",
       "      <td>11888</td>\n",
       "      <td>21649.0</td>\n",
       "      <td>1.0</td>\n",
       "      <td>1.821080</td>\n",
       "      <td>3.292586</td>\n",
       "      <td>1.0</td>\n",
       "      <td>2.0</td>\n",
       "    </tr>\n",
       "    <tr>\n",
       "      <th>29</th>\n",
       "      <td>Самара ТЦ \"ПаркХаус\"</td>\n",
       "      <td>10740</td>\n",
       "      <td>21943.0</td>\n",
       "      <td>1.0</td>\n",
       "      <td>2.043110</td>\n",
       "      <td>4.383207</td>\n",
       "      <td>1.0</td>\n",
       "      <td>2.0</td>\n",
       "    </tr>\n",
       "    <tr>\n",
       "      <th>30</th>\n",
       "      <td>Сергиев Посад ТЦ \"7Я\"</td>\n",
       "      <td>16873</td>\n",
       "      <td>42342.0</td>\n",
       "      <td>1.0</td>\n",
       "      <td>2.509453</td>\n",
       "      <td>7.174214</td>\n",
       "      <td>1.0</td>\n",
       "      <td>2.0</td>\n",
       "    </tr>\n",
       "    <tr>\n",
       "      <th>31</th>\n",
       "      <td>Сургут ТРЦ \"Сити Молл\"</td>\n",
       "      <td>16382</td>\n",
       "      <td>42104.0</td>\n",
       "      <td>1.0</td>\n",
       "      <td>2.570138</td>\n",
       "      <td>8.237185</td>\n",
       "      <td>1.0</td>\n",
       "      <td>2.0</td>\n",
       "    </tr>\n",
       "    <tr>\n",
       "      <th>32</th>\n",
       "      <td>Томск ТРЦ \"Изумрудный Город\"</td>\n",
       "      <td>9941</td>\n",
       "      <td>19580.0</td>\n",
       "      <td>1.0</td>\n",
       "      <td>1.969621</td>\n",
       "      <td>5.190601</td>\n",
       "      <td>1.0</td>\n",
       "      <td>2.0</td>\n",
       "    </tr>\n",
       "    <tr>\n",
       "      <th>33</th>\n",
       "      <td>Тюмень ТРЦ \"Кристалл\"</td>\n",
       "      <td>7601</td>\n",
       "      <td>12555.0</td>\n",
       "      <td>1.0</td>\n",
       "      <td>1.651756</td>\n",
       "      <td>2.275302</td>\n",
       "      <td>1.0</td>\n",
       "      <td>2.0</td>\n",
       "    </tr>\n",
       "    <tr>\n",
       "      <th>34</th>\n",
       "      <td>Тюмень ТЦ \"Гудвин\"</td>\n",
       "      <td>15266</td>\n",
       "      <td>36816.0</td>\n",
       "      <td>1.0</td>\n",
       "      <td>2.411634</td>\n",
       "      <td>6.090384</td>\n",
       "      <td>1.0</td>\n",
       "      <td>2.0</td>\n",
       "    </tr>\n",
       "    <tr>\n",
       "      <th>35</th>\n",
       "      <td>Уфа ТК \"Центральный\"</td>\n",
       "      <td>12983</td>\n",
       "      <td>26514.0</td>\n",
       "      <td>1.0</td>\n",
       "      <td>2.042209</td>\n",
       "      <td>4.699037</td>\n",
       "      <td>1.0</td>\n",
       "      <td>2.0</td>\n",
       "    </tr>\n",
       "    <tr>\n",
       "      <th>36</th>\n",
       "      <td>Уфа ТЦ \"Семья\" 2</td>\n",
       "      <td>14987</td>\n",
       "      <td>35610.0</td>\n",
       "      <td>1.0</td>\n",
       "      <td>2.376059</td>\n",
       "      <td>6.519046</td>\n",
       "      <td>1.0</td>\n",
       "      <td>2.0</td>\n",
       "    </tr>\n",
       "    <tr>\n",
       "      <th>37</th>\n",
       "      <td>Цифровой склад 1С-Онлайн</td>\n",
       "      <td>4562</td>\n",
       "      <td>28198.0</td>\n",
       "      <td>2.0</td>\n",
       "      <td>6.181061</td>\n",
       "      <td>16.618278</td>\n",
       "      <td>1.0</td>\n",
       "      <td>5.0</td>\n",
       "    </tr>\n",
       "    <tr>\n",
       "      <th>38</th>\n",
       "      <td>Чехов ТРЦ \"Карнавал\"</td>\n",
       "      <td>17721</td>\n",
       "      <td>37132.0</td>\n",
       "      <td>1.0</td>\n",
       "      <td>2.095367</td>\n",
       "      <td>5.605679</td>\n",
       "      <td>1.0</td>\n",
       "      <td>2.0</td>\n",
       "    </tr>\n",
       "    <tr>\n",
       "      <th>39</th>\n",
       "      <td>Якутск Орджоникидзе, 56</td>\n",
       "      <td>24072</td>\n",
       "      <td>67638.0</td>\n",
       "      <td>1.0</td>\n",
       "      <td>2.809821</td>\n",
       "      <td>10.044096</td>\n",
       "      <td>1.0</td>\n",
       "      <td>2.0</td>\n",
       "    </tr>\n",
       "    <tr>\n",
       "      <th>40</th>\n",
       "      <td>Якутск ТЦ \"Центральный\"</td>\n",
       "      <td>17329</td>\n",
       "      <td>42944.0</td>\n",
       "      <td>1.0</td>\n",
       "      <td>2.478158</td>\n",
       "      <td>6.031781</td>\n",
       "      <td>1.0</td>\n",
       "      <td>2.0</td>\n",
       "    </tr>\n",
       "    <tr>\n",
       "      <th>41</th>\n",
       "      <td>Ярославль ТЦ \"Альтаир\"</td>\n",
       "      <td>11780</td>\n",
       "      <td>26882.0</td>\n",
       "      <td>1.0</td>\n",
       "      <td>2.282003</td>\n",
       "      <td>5.213704</td>\n",
       "      <td>1.0</td>\n",
       "      <td>2.0</td>\n",
       "    </tr>\n",
       "  </tbody>\n",
       "</table>\n",
       "</div>"
      ],
      "text/plain": [
       "                                shop_name   size       sum  median      mean  \\\n",
       "0                        Адыгея ТЦ \"Мега\"   8172   19033.0     1.0  2.329050   \n",
       "1          Балашиха ТРК \"Октябрь-Киномир\"   8869   16838.0     1.0  1.898523   \n",
       "2                Волжский ТЦ \"Волга Молл\"  11305   24268.0     1.0  2.146661   \n",
       "3                  Вологда ТРЦ \"Мармелад\"  12065   24640.0     1.0  2.042271   \n",
       "4              Воронеж (Плехановская, 13)  19914   51390.0     1.0  2.580597   \n",
       "5                  Воронеж ТРЦ \"Максимир\"  15405   37624.0     1.0  2.442324   \n",
       "6              Жуковский ул. Чкалова 39м?   7038   13429.0     1.0  1.908070   \n",
       "7                     Интернет-магазин ЧС  10051   46544.0     1.0  4.630783   \n",
       "8                 Казань ТЦ \"ПаркХаус\" II  10776   26251.0     1.0  2.436062   \n",
       "9                    Калуга ТРЦ \"XXI век\"  14640   38539.0     1.0  2.632445   \n",
       "10                       Коломна ТЦ \"Рио\"  13747   32649.0     1.0  2.374991   \n",
       "11                   Красноярск ТЦ \"Июнь\"  13580   34785.0     1.0  2.561487   \n",
       "12                  Курск ТЦ \"Пушкинский\"  16488   38646.0     1.0  2.343886   \n",
       "13                 Москва МТРЦ \"Афи Молл\"  17135   38447.0     1.0  2.243770   \n",
       "14                     Москва Магазин С21  11786   34446.0     1.0  2.922620   \n",
       "15       Москва ТК \"Буденовский\" (пав.К7)  13946   35798.0     1.0  2.566901   \n",
       "16                    Москва ТРК \"Атриум\"  34109  123665.0     2.0  3.625583   \n",
       "17            Москва ТЦ \"Ареал\" (Беляево)  14361   35771.0     1.0  2.490843   \n",
       "18        Москва ТЦ \"МЕГА Теплый Стан\" II  28091  100002.0     2.0  3.559930   \n",
       "19                Москва ТЦ \"Семеновский\"  38151  160123.0     2.0  4.197085   \n",
       "20                   Н.Новгород ТРЦ \"РИО\"   3227    5298.0     1.0  1.641773   \n",
       "21            Н.Новгород ТРЦ \"Фантастика\"  16245   38858.0     1.0  2.391998   \n",
       "22  Новосибирск ТРЦ \"Галерея Новосибирск\"    252     324.0     1.0  1.285714   \n",
       "23                  Новосибирск ТЦ \"Мега\"  12015   25539.0     1.0  2.125593   \n",
       "24                         Омск ТЦ \"Мега\"  13308   32047.0     1.0  2.408100   \n",
       "25  РостовНаДону ТРК \"Мегацентр Горизонт\"   6643   12613.0     1.0  1.898690   \n",
       "26                 РостовНаДону ТЦ \"Мега\"  11065   25345.0     1.0  2.290556   \n",
       "27                 СПб ТК \"Невский Центр\"  25650   82952.0     1.0  3.233996   \n",
       "28                    Самара ТЦ \"Мелодия\"  11888   21649.0     1.0  1.821080   \n",
       "29                   Самара ТЦ \"ПаркХаус\"  10740   21943.0     1.0  2.043110   \n",
       "30                  Сергиев Посад ТЦ \"7Я\"  16873   42342.0     1.0  2.509453   \n",
       "31                 Сургут ТРЦ \"Сити Молл\"  16382   42104.0     1.0  2.570138   \n",
       "32           Томск ТРЦ \"Изумрудный Город\"   9941   19580.0     1.0  1.969621   \n",
       "33                  Тюмень ТРЦ \"Кристалл\"   7601   12555.0     1.0  1.651756   \n",
       "34                     Тюмень ТЦ \"Гудвин\"  15266   36816.0     1.0  2.411634   \n",
       "35                   Уфа ТК \"Центральный\"  12983   26514.0     1.0  2.042209   \n",
       "36                       Уфа ТЦ \"Семья\" 2  14987   35610.0     1.0  2.376059   \n",
       "37               Цифровой склад 1С-Онлайн   4562   28198.0     2.0  6.181061   \n",
       "38                   Чехов ТРЦ \"Карнавал\"  17721   37132.0     1.0  2.095367   \n",
       "39                Якутск Орджоникидзе, 56  24072   67638.0     1.0  2.809821   \n",
       "40                Якутск ТЦ \"Центральный\"  17329   42944.0     1.0  2.478158   \n",
       "41                 Ярославль ТЦ \"Альтаир\"  11780   26882.0     1.0  2.282003   \n",
       "\n",
       "          std  q25  q75  \n",
       "0    4.749768  1.0  2.0  \n",
       "1    3.714596  1.0  2.0  \n",
       "2    5.682294  1.0  2.0  \n",
       "3    4.617143  1.0  2.0  \n",
       "4    7.772118  1.0  2.0  \n",
       "5    6.507651  1.0  2.0  \n",
       "6    4.148609  1.0  2.0  \n",
       "7   34.801188  1.0  2.0  \n",
       "8    7.241925  1.0  2.0  \n",
       "9    7.718249  1.0  2.0  \n",
       "10   6.595392  1.0  2.0  \n",
       "11   8.004296  1.0  2.0  \n",
       "12   5.197501  1.0  2.0  \n",
       "13   7.286964  1.0  2.0  \n",
       "14   9.477166  1.0  2.0  \n",
       "15   7.398962  1.0  2.0  \n",
       "16  18.000289  1.0  3.0  \n",
       "17   8.484252  1.0  2.0  \n",
       "18  16.560565  1.0  3.0  \n",
       "19  21.649547  1.0  4.0  \n",
       "20   2.575210  1.0  2.0  \n",
       "21   6.673617  1.0  2.0  \n",
       "22   1.149101  1.0  1.0  \n",
       "23   6.037116  1.0  2.0  \n",
       "24   5.495064  1.0  2.0  \n",
       "25   5.848339  1.0  1.0  \n",
       "26   6.089155  1.0  2.0  \n",
       "27  15.044060  1.0  2.0  \n",
       "28   3.292586  1.0  2.0  \n",
       "29   4.383207  1.0  2.0  \n",
       "30   7.174214  1.0  2.0  \n",
       "31   8.237185  1.0  2.0  \n",
       "32   5.190601  1.0  2.0  \n",
       "33   2.275302  1.0  2.0  \n",
       "34   6.090384  1.0  2.0  \n",
       "35   4.699037  1.0  2.0  \n",
       "36   6.519046  1.0  2.0  \n",
       "37  16.618278  1.0  5.0  \n",
       "38   5.605679  1.0  2.0  \n",
       "39  10.044096  1.0  2.0  \n",
       "40   6.031781  1.0  2.0  \n",
       "41   5.213704  1.0  2.0  "
      ]
     },
     "execution_count": 28,
     "metadata": {},
     "output_type": "execute_result"
    }
   ],
   "source": [
    "def q25(x):\n",
    "    return x.quantile(0.25)\n",
    "def q75(x):\n",
    "    return x.quantile(0.75)\n",
    "\n",
    "fun = {'item_cnt_day' : ['size','sum','median','mean','std',q25,q75]}\n",
    "\n",
    "df_re = month_sum.groupby('shop_name').agg(fun)\n",
    "\n",
    "df_re2 = df_re.reset_index()\n",
    "ww = [df_re.reset_index().columns.levels[0][1],df_re.reset_index().columns.levels[1].values[:-1]]\n",
    "df_re2.columns = ww[0],ww[1][0],ww[1][1],ww[1][2],ww[1][3],ww[1][4],ww[1][5],ww[1][6]\n",
    "df_re2"
   ]
  },
  {
   "cell_type": "markdown",
   "metadata": {
    "ExecuteTime": {
     "end_time": "2019-11-20T09:32:11.697633Z",
     "start_time": "2019-11-20T09:32:11.644746Z"
    }
   },
   "source": [
    "Clustering에는 많은 방법들(Ex : Kmeans Clustering, Hierarchical Clustering)이 존재합니다. 저는 그 중에서 가장 직관적인 KMeans clustering를 살펴보겠습니다. KMeans Clustering에서 가장 중요한 점은 k를 결정하는 것입니다. 그래서 구체적인 'artist'를 clustering 하기 전에 최적의 k를 결정하겠습니다. "
   ]
  },
  {
   "cell_type": "markdown",
   "metadata": {},
   "source": [
    "'k를 결정하는 것'에 대한 방법들 중 하나인 Elbow Method로 최적의 K를 구해보겠습니다.\n",
    "\n",
    "- The Elbow Method :\n",
    "    - Calculate the Within-Cluster-Sum of Squared Errors(WSS) for different values of k\n",
    "    - Squared Error for each point is the square of the distance of the point from its representation\n",
    "    - Choose the k for which WSS becomes first starts to diminish"
   ]
  },
  {
   "cell_type": "code",
   "execution_count": 29,
   "metadata": {
    "ExecuteTime": {
     "end_time": "2019-11-20T16:20:18.659657Z",
     "start_time": "2019-11-20T16:20:18.641704Z"
    }
   },
   "outputs": [],
   "source": [
    "def What_WSS(points,kmax,seed):  \n",
    "    sse = []\n",
    "    for k in range(1,kmax+1):\n",
    "        # 재현성을 위해 random_sate값을 특정값으로 고정하겠습니다.\n",
    "        kmeans = KMeans(n_clusters = k,random_state = seed).fit(points)\n",
    "        centroids = kmeans.cluster_centers_\n",
    "        pred_clusters = kmeans.predict(points)\n",
    "        curr_sse = 0\n",
    "        \n",
    "        for i in range(len(points)):\n",
    "            curr_center = centroids[pred_clusters[i]]\n",
    "            # 거리 측도는 유클리안 거리를 사용하였습니다.\n",
    "            curr_sse += (points[i,0] - curr_center[0]) ** 2 + (points[i,1] - curr_center[1]) ** 2\n",
    "            \n",
    "        sse.append(curr_sse)\n",
    "    return sse"
   ]
  },
  {
   "cell_type": "markdown",
   "metadata": {},
   "source": [
    "가장 적절한 K는 WSS 정의에 따라 3임을 추론할 수 있습니다."
   ]
  },
  {
   "cell_type": "code",
   "execution_count": 34,
   "metadata": {
    "ExecuteTime": {
     "end_time": "2019-11-20T16:24:35.996424Z",
     "start_time": "2019-11-20T16:24:35.097870Z"
    },
    "scrolled": true
   },
   "outputs": [
    {
     "data": {
      "application/vnd.plotly.v1+json": {
       "config": {
        "linkText": "Export to plot.ly",
        "plotlyServerURL": "https://plot.ly",
        "showLink": false
       },
       "data": [
        {
         "mode": "lines+markers",
         "name": "find the K with Elbow method",
         "type": "scatter",
         "uid": "1da07c67-e0c7-45a2-b5e8-45b4fa6bd85a",
         "x": [
          1,
          2,
          3,
          4,
          5,
          6
         ],
         "y": [
          38842797864.14286,
          10520154727.671053,
          6106101850.005554,
          2984437805.073099,
          2089017567.8483136,
          1300420251.0149798
         ]
        }
       ],
       "layout": {}
      },
      "text/html": [
       "<div>\n",
       "        \n",
       "        \n",
       "            <div id=\"33ee7616-c2db-49ec-81ba-c28ba0cb1649\" class=\"plotly-graph-div\" style=\"height:525px; width:100%;\"></div>\n",
       "            <script type=\"text/javascript\">\n",
       "                require([\"plotly\"], function(Plotly) {\n",
       "                    window.PLOTLYENV=window.PLOTLYENV || {};\n",
       "                    window.PLOTLYENV.BASE_URL='https://plot.ly';\n",
       "                    \n",
       "                if (document.getElementById(\"33ee7616-c2db-49ec-81ba-c28ba0cb1649\")) {\n",
       "                    Plotly.newPlot(\n",
       "                        '33ee7616-c2db-49ec-81ba-c28ba0cb1649',\n",
       "                        [{\"mode\": \"lines+markers\", \"name\": \"find the K with Elbow method\", \"type\": \"scatter\", \"uid\": \"1da07c67-e0c7-45a2-b5e8-45b4fa6bd85a\", \"x\": [1, 2, 3, 4, 5, 6], \"y\": [38842797864.14286, 10520154727.671053, 6106101850.005554, 2984437805.073099, 2089017567.8483136, 1300420251.0149798]}],\n",
       "                        {},\n",
       "                        {\"showLink\": false, \"linkText\": \"Export to plot.ly\", \"plotlyServerURL\": \"https://plot.ly\", \"responsive\": true}\n",
       "                    ).then(function(){\n",
       "                            \n",
       "var gd = document.getElementById('33ee7616-c2db-49ec-81ba-c28ba0cb1649');\n",
       "var x = new MutationObserver(function (mutations, observer) {{\n",
       "        var display = window.getComputedStyle(gd).display;\n",
       "        if (!display || display === 'none') {{\n",
       "            console.log([gd, 'removed!']);\n",
       "            Plotly.purge(gd);\n",
       "            observer.disconnect();\n",
       "        }}\n",
       "}});\n",
       "\n",
       "// Listen for the removal of the full notebook cells\n",
       "var notebookContainer = gd.closest('#notebook-container');\n",
       "if (notebookContainer) {{\n",
       "    x.observe(notebookContainer, {childList: true});\n",
       "}}\n",
       "\n",
       "// Listen for the clearing of the current output cell\n",
       "var outputEl = gd.closest('.output');\n",
       "if (outputEl) {{\n",
       "    x.observe(outputEl, {childList: true});\n",
       "}}\n",
       "\n",
       "                        })\n",
       "                };\n",
       "                });\n",
       "            </script>\n",
       "        </div>"
      ]
     },
     "metadata": {},
     "output_type": "display_data"
    }
   ],
   "source": [
    "x = np.arange(1,7,1)\n",
    "cluster_outcome = What_WSS(df_re2.iloc[:,1:].values,6,2019)\n",
    "fig = go.Figure()\n",
    "fig.add_trace(go.Scatter(x = x,\n",
    "                         y = cluster_outcome,\n",
    "                         mode = 'lines+markers',\n",
    "                         name = 'find the K with Elbow method'))\n",
    "iplot(fig)"
   ]
  },
  {
   "cell_type": "markdown",
   "metadata": {},
   "source": [
    "k를 3으로 지정한 뒤 상점을 Clustering하면 다음과 같습니다."
   ]
  },
  {
   "cell_type": "code",
   "execution_count": 37,
   "metadata": {
    "ExecuteTime": {
     "end_time": "2019-11-20T16:27:27.153675Z",
     "start_time": "2019-11-20T16:27:27.114778Z"
    }
   },
   "outputs": [],
   "source": [
    "kmeans = KMeans(n_clusters = 3,random_state = 2019).fit(df_re2.iloc[:,1:])\n",
    "centroids = kmeans.cluster_centers_\n",
    "pred_clusters = kmeans.predict(df_re2.iloc[:,1:])"
   ]
  },
  {
   "cell_type": "markdown",
   "metadata": {},
   "source": [
    "예를 들어 첫번째 군집에 속한 상점들은 다음과 같습니다.\n",
    "-   Адыгея ТЦ \"Мега\", Балашиха ТРК \"Октябрь-Киномир\",Волжский ТЦ \"Волга Молл\", Вологда ТРЦ \"Мармелад\",Жуковский ул. Чкалова 39м?,Казань ТЦ \"ПаркХаус\" II,Н.Новгород ТРЦ \"РИО\",Новосибирск ТРЦ \"Галерея Новосибирск\",Новосибирск ТЦ \"Мега\",РостовНаДону ТРК \"Мегацентр Горизонт\",РостовНаДону ТЦ \"Мега\",Самара ТЦ \"Мелодия\",Самара ТЦ \"ПаркХаус\",Томск ТРЦ \"Изумрудный Город\",Тюмень ТРЦ \"Кристалл\",Уфа ТК \"Центральный\",Цифровой склад 1С-Онлайн,Ярославль ТЦ \"Альтаир\""
   ]
  },
  {
   "cell_type": "code",
   "execution_count": 41,
   "metadata": {
    "ExecuteTime": {
     "end_time": "2019-11-20T16:33:11.024703Z",
     "start_time": "2019-11-20T16:33:10.993786Z"
    },
    "scrolled": true
   },
   "outputs": [
    {
     "name": "stdout",
     "output_type": "stream",
     "text": [
      "0                          Адыгея ТЦ \"Мега\"\n",
      "1            Балашиха ТРК \"Октябрь-Киномир\"\n",
      "2                  Волжский ТЦ \"Волга Молл\"\n",
      "3                    Вологда ТРЦ \"Мармелад\"\n",
      "6                Жуковский ул. Чкалова 39м?\n",
      "8                   Казань ТЦ \"ПаркХаус\" II\n",
      "20                     Н.Новгород ТРЦ \"РИО\"\n",
      "22    Новосибирск ТРЦ \"Галерея Новосибирск\"\n",
      "23                    Новосибирск ТЦ \"Мега\"\n",
      "25    РостовНаДону ТРК \"Мегацентр Горизонт\"\n",
      "26                   РостовНаДону ТЦ \"Мега\"\n",
      "28                      Самара ТЦ \"Мелодия\"\n",
      "29                     Самара ТЦ \"ПаркХаус\"\n",
      "32             Томск ТРЦ \"Изумрудный Город\"\n",
      "33                    Тюмень ТРЦ \"Кристалл\"\n",
      "35                     Уфа ТК \"Центральный\"\n",
      "37                 Цифровой склад 1С-Онлайн\n",
      "41                   Ярославль ТЦ \"Альтаир\"\n",
      "Name: shop_name, dtype: object\n",
      "\n",
      "16                Москва ТРК \"Атриум\"\n",
      "18    Москва ТЦ \"МЕГА Теплый Стан\" II\n",
      "19            Москва ТЦ \"Семеновский\"\n",
      "27             СПб ТК \"Невский Центр\"\n",
      "Name: shop_name, dtype: object\n",
      "\n",
      "4           Воронеж (Плехановская, 13)\n",
      "5               Воронеж ТРЦ \"Максимир\"\n",
      "7                  Интернет-магазин ЧС\n",
      "9                 Калуга ТРЦ \"XXI век\"\n",
      "10                    Коломна ТЦ \"Рио\"\n",
      "11                Красноярск ТЦ \"Июнь\"\n",
      "12               Курск ТЦ \"Пушкинский\"\n",
      "13              Москва МТРЦ \"Афи Молл\"\n",
      "14                  Москва Магазин С21\n",
      "15    Москва ТК \"Буденовский\" (пав.К7)\n",
      "17         Москва ТЦ \"Ареал\" (Беляево)\n",
      "21         Н.Новгород ТРЦ \"Фантастика\"\n",
      "24                      Омск ТЦ \"Мега\"\n",
      "30               Сергиев Посад ТЦ \"7Я\"\n",
      "31              Сургут ТРЦ \"Сити Молл\"\n",
      "34                  Тюмень ТЦ \"Гудвин\"\n",
      "36                    Уфа ТЦ \"Семья\" 2\n",
      "38                Чехов ТРЦ \"Карнавал\"\n",
      "39             Якутск Орджоникидзе, 56\n",
      "40             Якутск ТЦ \"Центральный\"\n",
      "Name: shop_name, dtype: object\n",
      "\n"
     ]
    }
   ],
   "source": [
    "df_re2['cluster'] = pred_clusters\n",
    "print(df_re2[df_re2['cluster'] == 0]['shop_name'])\n",
    "print()\n",
    "print(df_re2[df_re2['cluster'] == 1]['shop_name'])\n",
    "print()\n",
    "print(df_re2[df_re2['cluster'] == 2]['shop_name'])\n",
    "print()"
   ]
  },
  {
   "cell_type": "markdown",
   "metadata": {
    "ExecuteTime": {
     "end_time": "2019-11-20T16:24:25.325978Z",
     "start_time": "2019-11-20T16:24:25.312017Z"
    }
   },
   "source": [
    "상점들에 관한 Clustering을 통하여 우리는 46개의 개별적인 모델이 아닌 클러스터링에 기반한 모델을 생성할 수 있습니다. 그러므로 다음의 모델들을 고안해야 합니다.\n",
    "- {Cluster, 월, Item_name}에 해당하는 개별적인 Robust Time Series Modeling"
   ]
  }
 ],
 "metadata": {
  "kernelspec": {
   "display_name": "Python 3",
   "language": "python",
   "name": "python3"
  },
  "language_info": {
   "codemirror_mode": {
    "name": "ipython",
    "version": 3
   },
   "file_extension": ".py",
   "mimetype": "text/x-python",
   "name": "python",
   "nbconvert_exporter": "python",
   "pygments_lexer": "ipython3",
   "version": "3.7.3"
  },
  "latex_envs": {
   "LaTeX_envs_menu_present": true,
   "autoclose": false,
   "autocomplete": true,
   "bibliofile": "biblio.bib",
   "cite_by": "apalike",
   "current_citInitial": 1,
   "eqLabelWithNumbers": true,
   "eqNumInitial": 1,
   "hotkeys": {
    "equation": "Ctrl-E",
    "itemize": "Ctrl-I"
   },
   "labels_anchors": false,
   "latex_user_defs": false,
   "report_style_numbering": true,
   "user_envs_cfg": false
  },
  "toc": {
   "base_numbering": 1,
   "nav_menu": {},
   "number_sections": true,
   "sideBar": true,
   "skip_h1_title": false,
   "title_cell": "Table of Contents",
   "title_sidebar": "Contents",
   "toc_cell": false,
   "toc_position": {},
   "toc_section_display": true,
   "toc_window_display": false
  }
 },
 "nbformat": 4,
 "nbformat_minor": 4
}
